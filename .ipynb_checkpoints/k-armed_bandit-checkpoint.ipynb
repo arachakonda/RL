{
 "cells": [
  {
   "cell_type": "markdown",
   "id": "d4aae957-e894-4d87-bb3d-d8b245744434",
   "metadata": {
    "tags": []
   },
   "source": [
    "### K-Armed Bandit\n",
    "\n",
    "explanation at : https://www.notion.so/arachakonda/K-Armed-Bandit-dc311da56d5b4ae28fe43e7a56450975?pvs=4"
   ]
  },
  {
   "cell_type": "code",
   "execution_count": 14,
   "id": "92ffb1c0-6045-4c9b-a069-f62e958a7a8b",
   "metadata": {
    "tags": []
   },
   "outputs": [],
   "source": [
    "import torch\n",
    "\n",
    "class armed_bandits(torch.nn.Module):\n",
    "    def __init__(self, k, lowest_reward, highest_reward):\n",
    "        super(armed_bandits,self).__init__()\n",
    "        self.k = k\n",
    "        self.low = lowest_reward\n",
    "        self.high = highest_reward\n",
    "        self.T = torch.zeros(k,2)\n",
    "        self.defBandits()\n",
    "    def defBandits(self):\n",
    "        means = torch.randint(low=self.low, high=self.high, size=(self.k,))\n",
    "        std = torch.rand(size=(self.k,))\n",
    "        self.T = torch.stack((means,std), -1)\n",
    "    def spin(self):\n",
    "        spun = torch.normal(mean=self.T[:,0],std=self.T[:,1])          \n",
    "        return spun"
   ]
  },
  {
   "cell_type": "code",
   "execution_count": 15,
   "id": "a0904173-4d84-40e2-a132-d625fc701d7f",
   "metadata": {
    "tags": []
   },
   "outputs": [],
   "source": [
    "k = armed_bandits(10,0,10)"
   ]
  },
  {
   "cell_type": "code",
   "execution_count": 16,
   "id": "c4694743-614e-4cc4-b042-28026bfe5eb1",
   "metadata": {
    "tags": []
   },
   "outputs": [
    {
     "data": {
      "text/plain": [
       "tensor([ 8.0275,  9.1612,  6.9863, 10.1440,  1.3668,  8.5264,  6.8785,  0.6616,\n",
       "         8.5895,  8.9929])"
      ]
     },
     "execution_count": 16,
     "metadata": {},
     "output_type": "execute_result"
    }
   ],
   "source": [
    "k.spin()"
   ]
  },
  {
   "cell_type": "code",
   "execution_count": null,
   "id": "5618086f-eafe-406d-a507-fbf1b4f7a36e",
   "metadata": {},
   "outputs": [],
   "source": []
  }
 ],
 "metadata": {
  "kernelspec": {
   "display_name": "Python [conda env:pDL] *",
   "language": "python",
   "name": "conda-env-pDL-py"
  },
  "language_info": {
   "codemirror_mode": {
    "name": "ipython",
    "version": 3
   },
   "file_extension": ".py",
   "mimetype": "text/x-python",
   "name": "python",
   "nbconvert_exporter": "python",
   "pygments_lexer": "ipython3",
   "version": "3.9.16"
  }
 },
 "nbformat": 4,
 "nbformat_minor": 5
}
