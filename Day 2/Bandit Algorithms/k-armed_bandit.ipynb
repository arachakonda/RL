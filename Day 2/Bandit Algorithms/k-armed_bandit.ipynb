{
 "cells": [
  {
   "attachments": {},
   "cell_type": "markdown",
   "id": "d4aae957-e894-4d87-bb3d-d8b245744434",
   "metadata": {
    "tags": []
   },
   "source": [
    "### K-Armed Bandit with spin vector\n",
    "\n",
    "explanation at : https://www.notion.so/arachakonda/K-Armed-Bandit-dc311da56d5b4ae28fe43e7a56450975?pvs=4"
   ]
  },
  {
   "cell_type": "code",
   "execution_count": 4,
   "id": "92ffb1c0-6045-4c9b-a069-f62e958a7a8b",
   "metadata": {
    "tags": []
   },
   "outputs": [],
   "source": [
    "import torch\n",
    "import numpy as  np\n",
    "\n",
    "class armed_bandits(torch.nn.Module):\n",
    "    def __init__(self, k, n, lowest_reward, highest_reward):\n",
    "        super(armed_bandits,self).__init__()\n",
    "        self.k = k #number of levers\n",
    "        self.n = n #maximum number of arms that can be pulled in one time-step\n",
    "        self.low = lowest_reward # lowest allowed reward\n",
    "        self.high = highest_reward # highest allowed reward\n",
    "        self.T = torch.zeros(k,2) # internal initial spin vector\n",
    "        self.defBandits() # initialization function\n",
    "    def defBandits(self):\n",
    "        means = torch.randint(low=self.low, high=self.high, size=(self.k,))\n",
    "        std = torch.rand(size=(self.k,))\n",
    "        self.T = torch.stack((means,std), -1)\n",
    "    def spin(self,spin_fun=lambda s,p: torch.zeros(s).scatter_(0, torch.tensor(p), 1)):\n",
    "        spin_vec = spin_fun(self.k,np.random.randint(low=0, high=self.k, size=(self.n,)))\n",
    "        spun = torch.mul(torch.normal(mean=self.T[:,0],std=self.T[:,1]),spin_vec)\n",
    "        return spun"
   ]
  },
  {
   "cell_type": "code",
   "execution_count": 5,
   "id": "a0904173-4d84-40e2-a132-d625fc701d7f",
   "metadata": {
    "tags": []
   },
   "outputs": [],
   "source": [
    "k = armed_bandits(10,5, 0,10)"
   ]
  },
  {
   "cell_type": "code",
   "execution_count": 6,
   "id": "c4694743-614e-4cc4-b042-28026bfe5eb1",
   "metadata": {
    "tags": []
   },
   "outputs": [
    {
     "data": {
      "text/plain": [
       "tensor([ 8.5469, -0.0549,  0.0000,  4.5929,  0.8557,  0.0000,  0.0000,  0.0000,\n",
       "        -0.0000,  0.0000])"
      ]
     },
     "execution_count": 6,
     "metadata": {},
     "output_type": "execute_result"
    }
   ],
   "source": [
    "k.spin()"
   ]
  },
  {
   "cell_type": "code",
   "execution_count": 7,
   "id": "8a582688",
   "metadata": {},
   "outputs": [
    {
     "data": {
      "text/plain": [
       "torch.Size([10])"
      ]
     },
     "execution_count": 7,
     "metadata": {},
     "output_type": "execute_result"
    }
   ],
   "source": []
  },
  {
   "cell_type": "code",
   "execution_count": null,
   "id": "c1c934c7",
   "metadata": {},
   "outputs": [],
   "source": []
  }
 ],
 "metadata": {
  "kernelspec": {
   "display_name": "gymnasium",
   "language": "python",
   "name": "python3"
  },
  "language_info": {
   "codemirror_mode": {
    "name": "ipython",
    "version": 3
   },
   "file_extension": ".py",
   "mimetype": "text/x-python",
   "name": "python",
   "nbconvert_exporter": "python",
   "pygments_lexer": "ipython3",
   "version": "3.9.13"
  }
 },
 "nbformat": 4,
 "nbformat_minor": 5
}
